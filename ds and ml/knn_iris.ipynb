{
 "cells": [
  {
   "cell_type": "code",
   "execution_count": 12,
   "id": "7f9b6612-0533-48d2-bf14-9d07a26ecd46",
   "metadata": {},
   "outputs": [
    {
     "name": "stdout",
     "output_type": "stream",
     "text": [
      "Accuracy: 0.9777777777777777\n",
      "['versicolor']\n"
     ]
    }
   ],
   "source": [
    "from sklearn.datasets import load_iris\n",
    "from sklearn.model_selection import train_test_split\n",
    "from sklearn.neighbors import KNeighborsClassifier\n",
    "from sklearn import metrics\n",
    "iris=load_iris()\n",
    "x=iris.data\n",
    "y=iris.target\n",
    "x_train,x_test,y_train,y_test=train_test_split(x,y,test_size=0.3,random_state=1)\n",
    "c_knn=KNeighborsClassifier(n_neighbors=3)\n",
    "c_knn.fit(x_train,y_train)\n",
    "y_pred=c_knn.predict(x_test)\n",
    "print(\"Accuracy:\",metrics.accuracy_score(y_test,y_pred))\n",
    "sample=[[2,2,3,3]]\n",
    "pred=c_knn.predict(sample)\n",
    "pred_v=[str(iris.target_names[p]) for p in pred]\n",
    "print(pred_v)"
   ]
  },
  {
   "cell_type": "code",
   "execution_count": null,
   "id": "9e55a264-e7d5-411d-9850-ea28af2e66cc",
   "metadata": {},
   "outputs": [],
   "source": []
  },
  {
   "cell_type": "code",
   "execution_count": 15,
   "id": "f27765f2-72b1-4447-a1ea-e67b4b001082",
   "metadata": {},
   "outputs": [
    {
     "name": "stdout",
     "output_type": "stream",
     "text": [
      "[2 1 0 2 0 2 0 1 1 1 1 1 1 1 1 0 1 1 0 0 2 1 0 0 2 0 0 1 1 0 2 1 0 2 2 1 0\n",
      " 1 1 1 2 0 2 0 0 1 2 2 1 2 1 2 1 1 2 1 1 2 1 2 1 0 2 1 1 1 1 2 0 0 2 1 0 0\n",
      " 1]\n",
      "Predicted output for [[5,5,4,4,]]: [2]\n",
      "Naive Bayes score: 0.9466666666666667\n"
     ]
    }
   ],
   "source": [
    "from sklearn.datasets import load_iris\n",
    "from sklearn.model_selection import train_test_split\n",
    "from sklearn.naive_bayes import GaussianNB\n",
    "x,y=load_iris(return_X_y=True)\n",
    "xtrain,xtest,ytrain,ytest=train_test_split(x,y,test_size=0.5,random_state=0)\n",
    "gnb=GaussianNB()\n",
    "ypred=gnb.fit(xtrain,ytrain).predict(xtest)\n",
    "print(ypred)\n",
    "xnew=[[5,5,4,4]]\n",
    "ynew=gnb.fit(xtrain,ytrain).predict(xnew)\n",
    "print(\"Predicted output for [[5,5,4,4,]]:\",ynew)\n",
    "print(\"Naive Bayes score:\",gnb.score(xtest,ytest))"
   ]
  },
  {
   "cell_type": "code",
   "execution_count": null,
   "id": "9004cc85-dd9f-4e03-b5b4-39bb5b5d4c1b",
   "metadata": {},
   "outputs": [],
   "source": []
  },
  {
   "cell_type": "code",
   "execution_count": null,
   "id": "4815173d-e93c-4f56-ab1a-f7cbec36314e",
   "metadata": {},
   "outputs": [],
   "source": []
  },
  {
   "cell_type": "code",
   "execution_count": 26,
   "id": "a8e57780-1c75-4b4d-83ca-21d487cf1a24",
   "metadata": {},
   "outputs": [
    {
     "name": "stdout",
     "output_type": "stream",
     "text": [
      "Prediction (Has flu?): Y\n",
      "Class probabilities: [[0.30509228 0.69490772]]\n"
     ]
    }
   ],
   "source": [
    "import numpy as np\n",
    "from sklearn.preprocessing import LabelEncoder\n",
    "from sklearn.naive_bayes import CategoricalNB\n",
    "\n",
    "# Dataset from the question\n",
    "# Chills, Running nose, Headache, Fever, Has flu\n",
    "data = [\n",
    "    ['Y','N','mild','Y','N'],\n",
    "    ['Y','Y','no','N','Y'],\n",
    "    ['Y','N','strong','Y','Y'],\n",
    "    ['N','Y','mild','Y','Y'],\n",
    "    ['N','N','no','N','N'],\n",
    "    ['N','Y','strong','Y','Y'],\n",
    "    ['N','Y','strong','N','N'],\n",
    "    ['Y','Y','mild','Y','Y']\n",
    "]\n",
    "\n",
    "# Split features (X) and labels (y)\n",
    "X = [row[:-1] for row in data]\n",
    "y = [row[-1] for row in data]\n",
    "\n",
    "# Encode categorical variables into numbers\n",
    "encoders = [LabelEncoder() for _ in range(len(X[0]))]\n",
    "\n",
    "X_encoded = np.array([encoders[i].fit_transform([row[i] for row in X]) for i in range(len(X[0]))]).T\n",
    "y_encoder = LabelEncoder()\n",
    "y_encoded = y_encoder.fit_transform(y)\n",
    "\n",
    "# Train Naive Bayes classifier\n",
    "model = CategoricalNB()\n",
    "model.fit(X_encoded, y_encoded)\n",
    "\n",
    "# Test instance: Chills=Y, Running nose=N, Headache=mild, Fever=Y\n",
    "test_instance = ['Y','N','mild','Y']\n",
    "test_encoded = np.array([encoders[i].transform([test_instance[i]])[0] for i in range(len(test_instance))]).reshape(1, -1)\n",
    "\n",
    "# Prediction\n",
    "pred = model.predict(test_encoded)\n",
    "pred_proba = model.predict_proba(test_encoded)\n",
    "\n",
    "print(\"Prediction (Has flu?):\", y_encoder.inverse_transform(pred)[0])\n",
    "print(\"Class probabilities:\", pred_proba)"
   ]
  },
  {
   "cell_type": "code",
   "execution_count": null,
   "id": "cb2aa703-8540-4595-aa23-acb7238a9a5d",
   "metadata": {},
   "outputs": [],
   "source": []
  }
 ],
 "metadata": {
  "kernelspec": {
   "display_name": "Python 3 (ipykernel)",
   "language": "python",
   "name": "python3"
  },
  "language_info": {
   "codemirror_mode": {
    "name": "ipython",
    "version": 3
   },
   "file_extension": ".py",
   "mimetype": "text/x-python",
   "name": "python",
   "nbconvert_exporter": "python",
   "pygments_lexer": "ipython3",
   "version": "3.13.5"
  }
 },
 "nbformat": 4,
 "nbformat_minor": 5
}
