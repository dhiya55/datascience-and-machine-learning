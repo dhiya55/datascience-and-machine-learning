{
 "cells": [
  {
   "cell_type": "code",
   "execution_count": 1,
   "id": "908c6318-a889-4003-84f2-cc6cda762804",
   "metadata": {},
   "outputs": [
    {
     "name": "stdout",
     "output_type": "stream",
     "text": [
      "hi\n"
     ]
    }
   ],
   "source": [
    "print(\"hi\")"
   ]
  },
  {
   "cell_type": "code",
   "execution_count": 2,
   "id": "5ece0cd7-c697-4cef-b389-a3c96406e86f",
   "metadata": {},
   "outputs": [
    {
     "name": "stdout",
     "output_type": "stream",
     "text": [
      "X= 3\n",
      "Y= 2.5\n",
      "Datatype of variable x: <class 'int'>\n",
      "Datatype of variable y: <class 'float'>\n",
      "Addition: 5.5\n",
      "Subtraction: 0.5\n",
      "Multiplication: 6\n",
      "Exponentation: 9\n"
     ]
    }
   ],
   "source": [
    "x=3\n",
    "y=2.5\n",
    "print(\"X=\" , x)\n",
    "print(\"Y=\" , y)\n",
    "print(\"Datatype of variable x:\", type(x))\n",
    "print(\"Datatype of variable y:\", type(y))\n",
    "print(\"Addition:\", x+y)\n",
    "print(\"Subtraction:\",x-y)\n",
    "print(\"Multiplication:\",x*2)\n",
    "print(\"Exponentation:\",x**2)"
   ]
  },
  {
   "cell_type": "code",
   "execution_count": 3,
   "id": "cce6fce0-b1cb-4909-9423-7c7051d2bf57",
   "metadata": {},
   "outputs": [
    {
     "name": "stdout",
     "output_type": "stream",
     "text": [
      "Demo of basic datatypes:Boolean\n",
      "t= True\n",
      "f= False\n",
      "Datatype of variable t: <class 'bool'>\n",
      "Datatype of variable f: <class 'bool'>\n",
      "Logical AND operation: False\n",
      "Logical OR operation: True\n",
      "Logical NOT operation: False\n",
      "Logical XOR operation: True\n"
     ]
    }
   ],
   "source": [
    "print(\"Demo of basic datatypes:Boolean\")\n",
    "t=True\n",
    "f=False\n",
    "print(\"t=\", t)\n",
    "print(\"f=\", f)\n",
    "print(\"Datatype of variable t:\",type(t))\n",
    "print(\"Datatype of variable f:\",type(f))\n",
    "print(\"Logical AND operation:\",t and f)\n",
    "print(\"Logical OR operation:\", t or f)\n",
    "print(\"Logical NOT operation:\", not t)\n",
    "print(\"Logical XOR operation:\", t != f)"
   ]
  },
  {
   "cell_type": "code",
   "execution_count": 4,
   "id": "4327a1b3-ecf0-4f6a-aaa4-4ac9ad1b3865",
   "metadata": {},
   "outputs": [
    {
     "name": "stdout",
     "output_type": "stream",
     "text": [
      "Demo of basic datatypes:String\n",
      "String1= hello\n",
      "String2= world\n",
      "String concatenation: hello world\n",
      "Capitalize: Hello world\n",
      "converted to uppercase: HELLO\n",
      "Right justify a string:   hello\n",
      "String at center:  hello \n",
      "After replacing l with ell: he(ell)(ell)o\n",
      "String after striping leading and trailing white spaces: world\n"
     ]
    }
   ],
   "source": [
    "print(\"Demo of basic datatypes:String\")\n",
    "s=\"hello\"\n",
    "t=\"world\"\n",
    "print(\"String1=\", s)\n",
    "print(\"String2=\", t)\n",
    "d= s+\" \"+t\n",
    "print(\"String concatenation:\",d)\n",
    "print(\"Capitalize:\",d.capitalize())\n",
    "print(\"converted to uppercase:\",s.upper())\n",
    "print(\"Right justify a string:\",s.rjust(7))\n",
    "print(\"String at center:\",s.center(7))\n",
    "print(\"After replacing l with ell:\",s.replace('l','(ell)'))\n",
    "print(\"String after striping leading and trailing white spaces:\",'world'.strip())"
   ]
  },
  {
   "cell_type": "code",
   "execution_count": 5,
   "id": "2bdb65e4-ee53-4470-8614-b10ff1aba0b8",
   "metadata": {},
   "outputs": [
    {
     "name": "stdout",
     "output_type": "stream",
     "text": [
      "Containers:Lists\n",
      "list 'nums' conatins: [0, 1, 2, 3, 4]\n",
      "List can contain elements of different types. Example: [0, 1, 2, 3, 'abc']\n",
      "'nums' after inserting new element at the end: [0, 1, 2, 3, 'abc', 'xyz']\n",
      "Sublists:\n",
      "A slice from index 2 to 4: [2, 3]\n",
      "A slice from index 2 to the end: [2, 3, 'abc', 'xyz']\n",
      "A slice from the start to index 2: [0, 1]\n",
      "A slice of the whole list: [0, 1, 2, 3, 'abc', 'xyz']\n",
      "After assign a new sublist to 'nums':\n",
      "1:0\n",
      "2:1\n",
      "3:2\n",
      "4:3\n",
      "5:8\n",
      "6:9\n",
      "List of squares of even numbers from 'nums': [0, 4, 64]\n"
     ]
    }
   ],
   "source": [
    "print(\"Containers:Lists\")\n",
    "nums=list(range(5))\n",
    "print(\"list 'nums' conatins:\", nums)\n",
    "nums[4]=\"abc\"\n",
    "print(\"List can contain elements of different types. Example:\", nums)\n",
    "nums.append(\"xyz\")\n",
    "print(\"'nums' after inserting new element at the end:\",nums)\n",
    "print(\"Sublists:\")\n",
    "print(\"A slice from index 2 to 4:\", nums[2:4])\n",
    "print(\"A slice from index 2 to the end:\", nums[2:])\n",
    "print(\"A slice from the start to index 2:\",nums[:2])\n",
    "print(\"A slice of the whole list:\", nums[:])\n",
    "nums[4:]=[8,9]\n",
    "print(\"After assign a new sublist to 'nums':\")\n",
    "for idx,i in enumerate(nums):\n",
    "    print('%d:%s'%(idx+1,i))\n",
    "even_squares=[x**2 for x in nums if x%2==0]\n",
    "print(\"List of squares of even numbers from 'nums':\",even_squares)"
   ]
  },
  {
   "cell_type": "code",
   "execution_count": 6,
   "id": "d05b580c-fa32-4abd-9d0b-1443e1dc22d1",
   "metadata": {},
   "outputs": [
    {
     "name": "stdout",
     "output_type": "stream",
     "text": [
      "Containers:Dictionaries\n",
      "Dictionary: {'cat': 'cute', 'dog': 'furry'}\n",
      "Is the dictionary has the key 'cat'? True\n",
      "After adding new entry to 'd': {'cat': 'cute', 'dog': 'furry', 'fish': 'wet'}\n",
      "Get an element monkey: N/A\n",
      "Get an element fish: wet\n",
      "After deleting the newly added entry from 'd': {'cat': 'cute', 'dog': 'furry'}\n",
      "Demo of dictionary comprehension:\n",
      "Squares of integers of range 10:\n",
      "0 : 0\n",
      "1 : 1\n",
      "2 : 4\n",
      "3 : 9\n",
      "4 : 16\n",
      "5 : 25\n",
      "6 : 36\n",
      "7 : 49\n",
      "8 : 64\n",
      "9 : 81\n"
     ]
    }
   ],
   "source": [
    "print(\"Containers:Dictionaries\")\n",
    "d=dict()\n",
    "d={'cat':'cute','dog':'furry'}\n",
    "print(\"Dictionary:\", d)\n",
    "print(\"Is the dictionary has the key 'cat'?\",'cat' in d)\n",
    "d['fish']='wet'\n",
    "print(\"After adding new entry to 'd':\", d)\n",
    "print(\"Get an element monkey:\",d.get('monkey','N/A'))\n",
    "print(\"Get an element fish:\",d.get('fish','N/A'))\n",
    "del d['fish']\n",
    "print(\"After deleting the newly added entry from 'd':\",d)\n",
    "print(\"Demo of dictionary comprehension:\")\n",
    "squares={x:x*x for x in range(10)}\n",
    "print(\"Squares of integers of range 10:\")\n",
    "for k,v in squares.items():\n",
    "    print(k,\":\",v)"
   ]
  },
  {
   "cell_type": "code",
   "execution_count": 9,
   "id": "d0ca3a8b-74c1-4ea2-8dfc-81d29e97b196",
   "metadata": {},
   "outputs": [
    {
     "name": "stdout",
     "output_type": "stream",
     "text": [
      "Containers:Sets\n",
      "Set 'num1': {120, 100, 110}\n",
      "'num1' after inserting 90: {120, 90, 100, 110}\n",
      "'num1' after inserting multiple elements: {100, 70, 110, 50, 120, 90, 60}\n",
      "'num1' after removing 60: {100, 70, 110, 50, 120, 90}\n",
      "Set comprehension & Set operations:\n",
      "n1= {0, 1, 2, 3, 4, 5, 6, 7, 8, 9}\n",
      "n2= {1, 3, 5, 7, 9}\n",
      "n1 union n2 {0, 1, 2, 3, 4, 5, 6, 7, 8, 9}\n",
      "n1 intersection n2 {1, 3, 5, 7, 9}\n",
      "n1 difference n2 {0, 2, 4, 6, 8}\n"
     ]
    }
   ],
   "source": [
    "print(\"Containers:Sets\")\n",
    "num1={100,110,120}\n",
    "print(\"Set 'num1':\",num1)\n",
    "num1.add(90)\n",
    "print(\"'num1' after inserting 90:\",num1)\n",
    "num1.update([50,60,70])\n",
    "print(\"'num1' after inserting multiple elements:\",num1)\n",
    "num1.remove(60)\n",
    "print(\"'num1' after removing 60:\",num1)\n",
    "print(\"Set comprehension & Set operations:\")\n",
    "n1={x for x in range(10)}\n",
    "print(\"n1=\",n1)\n",
    "n2={x for x in range(10) if x%2!=0}\n",
    "print(\"n2=\",n2)\n",
    "print(\"n1 union n2\",n1|n2)\n",
    "print(\"n1 intersection n2\",n1&n2)\n",
    "print(\"n1 difference n2\",n1-n2)"
   ]
  },
  {
   "cell_type": "code",
   "execution_count": 10,
   "id": "e1e4719d-5738-42ab-b17d-9eca75cba0e5",
   "metadata": {},
   "outputs": [
    {
     "name": "stdout",
     "output_type": "stream",
     "text": [
      "Containers:Tuples\n",
      "Dictionary with tuple keys:\n",
      "(0, 1) : 0\n",
      "(1, 2) : 1\n",
      "(2, 3) : 2\n",
      "(3, 4) : 3\n",
      "(4, 5) : 4\n",
      "(5, 6) : 5\n",
      "(6, 7) : 6\n",
      "(7, 8) : 7\n",
      "(8, 9) : 8\n",
      "(9, 10) : 9\n",
      "Tuple t: (5, 6)\n",
      "5\n",
      "1\n"
     ]
    }
   ],
   "source": [
    "print(\"Containers:Tuples\")\n",
    "d={(x,x+1):x for x in range(10)}\n",
    "print(\"Dictionary with tuple keys:\")\n",
    "for k,v in d.items():\n",
    "    print(k,\":\",v)\n",
    "t=(5,6)\n",
    "print(\"Tuple t:\",t)\n",
    "print(d[t])\n",
    "print(d[1,2])"
   ]
  },
  {
   "cell_type": "code",
   "execution_count": 13,
   "id": "d4580bca-1998-44b0-beff-0cee019225b8",
   "metadata": {},
   "outputs": [
    {
     "name": "stdout",
     "output_type": "stream",
     "text": [
      "Demo of function:Program to find factorial of a number\n"
     ]
    },
    {
     "name": "stdin",
     "output_type": "stream",
     "text": [
      "Enter a number: 3\n"
     ]
    },
    {
     "name": "stdout",
     "output_type": "stream",
     "text": [
      "Factorial: 6\n"
     ]
    }
   ],
   "source": [
    "print(\"Demo of function:Program to find factorial of a number\")\n",
    "def fact(n):\n",
    "    if n==1:\n",
    "        return 1\n",
    "    else:\n",
    "        return(n*fact(n-1))\n",
    "n=int(input(\"Enter a number:\"))\n",
    "print(\"Factorial:\",fact(n))"
   ]
  },
  {
   "cell_type": "code",
   "execution_count": 14,
   "id": "2c5a60fa-c791-466e-b073-10a8153968d4",
   "metadata": {},
   "outputs": [
    {
     "name": "stdout",
     "output_type": "stream",
     "text": [
      "Hello,Fred\n",
      "HELLO,FRED!\n"
     ]
    }
   ],
   "source": [
    "class Greeter:\n",
    "    def __init__(self,name):\n",
    "        self.name=name\n",
    "    def greet(self,loud=False):\n",
    "        if loud:\n",
    "            print('HELLO,%s!'%self.name.upper())\n",
    "        else:\n",
    "            print('Hello,%s'%self.name)\n",
    "g=Greeter('Fred')\n",
    "g.greet()\n",
    "g.greet(loud=True)"
   ]
  },
  {
   "cell_type": "code",
   "execution_count": null,
   "id": "f3ab9443-282f-4885-b433-570d823730bd",
   "metadata": {},
   "outputs": [],
   "source": []
  }
 ],
 "metadata": {
  "kernelspec": {
   "display_name": "Python 3 (ipykernel)",
   "language": "python",
   "name": "python3"
  },
  "language_info": {
   "codemirror_mode": {
    "name": "ipython",
    "version": 3
   },
   "file_extension": ".py",
   "mimetype": "text/x-python",
   "name": "python",
   "nbconvert_exporter": "python",
   "pygments_lexer": "ipython3",
   "version": "3.13.5"
  }
 },
 "nbformat": 4,
 "nbformat_minor": 5
}
