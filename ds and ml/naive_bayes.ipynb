{
 "cells": [
  {
   "cell_type": "code",
   "execution_count": 5,
   "id": "d2abd3ea-f2ed-44e7-8926-24bd55d2c2e4",
   "metadata": {},
   "outputs": [
    {
     "name": "stdout",
     "output_type": "stream",
     "text": [
      "has flu? Y\n",
      "class pro [[0.30509228 0.69490772]]\n"
     ]
    }
   ],
   "source": [
    "from sklearn.preprocessing import LabelEncoder\n",
    "from sklearn.naive_bayes import CategoricalNB\n",
    "import numpy as np\n",
    "data=[ ['Y','N','mild','Y','N'],\n",
    "    ['Y','Y','no','N','Y'],\n",
    "    ['Y','N','strong','Y','Y'],\n",
    "    ['N','Y','mild','Y','Y'],\n",
    "    ['N','N','no','N','N'],\n",
    "    ['N','Y','strong','Y','Y'],\n",
    "    ['N','Y','strong','N','N'],\n",
    "    ['Y','Y','mild','Y','Y']\n",
    "\n",
    "]\n",
    "X=[row[:-1] for row in data]\n",
    "y=[row[-1] for row in data]\n",
    "\n",
    "encoders=[LabelEncoder() for _ in range(len(X[0]))]\n",
    "X_encoded=np.column_stack([encoders[i].fit_transform([row[i] for row in X] )for i in range(len(X[0]))])\n",
    "\n",
    "y_encoder=LabelEncoder()\n",
    "y_encoded=y_encoder.fit_transform(y)\n",
    "\n",
    "model=CategoricalNB()\n",
    "model.fit(X_encoded,y_encoded)\n",
    "\n",
    "test=['Y','N','mild','Y']\n",
    "test_encoded=np.array([[encoders[i].transform([test[i]])[0] for i in range(len(test))]])\n",
    "\n",
    "prediction=model.predict(test_encoded)\n",
    "pro=model.predict_proba(test_encoded)\n",
    "\n",
    "print(\"has flu?\",y_encoder.inverse_transform(prediction)[0])\n",
    "print(\"class pro\",pro)"
   ]
  },
  {
   "cell_type": "code",
   "execution_count": 6,
   "id": "35e61d81-5c8e-4a6f-b8a5-87fc1f3a089a",
   "metadata": {},
   "outputs": [
    {
     "name": "stdout",
     "output_type": "stream",
     "text": [
      "Prediction (Has flu?): Y\n",
      "Class probabilities: [[0.30509228 0.69490772]]\n"
     ]
    }
   ],
   "source": [
    "from sklearn.preprocessing import LabelEncoder\n",
    "from sklearn.naive_bayes import CategoricalNB\n",
    "import numpy as np\n",
    "\n",
    "# Dataset: [Chills, Running nose, Headache, Fever, Has flu]\n",
    "data = [\n",
    "    ['Y','N','mild','Y','N'],\n",
    "    ['Y','Y','no','N','Y'],\n",
    "    ['Y','N','strong','Y','Y'],\n",
    "    ['N','Y','mild','Y','Y'],\n",
    "    ['N','N','no','N','N'],\n",
    "    ['N','Y','strong','Y','Y'],\n",
    "    ['N','Y','strong','N','N'],\n",
    "    ['Y','Y','mild','Y','Y']\n",
    "]\n",
    "\n",
    "# Separate features (X) and labels (y)\n",
    "X = [row[:-1] for row in data]  # all columns except the last one\n",
    "y = [row[-1] for row in data]   # last column (Has flu)\n",
    "\n",
    "# Encode categorical values (convert Y/N, mild/strong/no to numbers)\n",
    "encoders = [LabelEncoder() for _ in range(len(X[0]))]\n",
    "X_encoded = np.column_stack([encoders[i].fit_transform([row[i] for row in X]) for i in range(len(X[0]))])\n",
    "\n",
    "# Encode target labels (Has flu)\n",
    "y_encoder = LabelEncoder()\n",
    "y_encoded = y_encoder.fit_transform(y)\n",
    "\n",
    "# Train Naive Bayes model\n",
    "model = CategoricalNB()\n",
    "model.fit(X_encoded, y_encoded)\n",
    "\n",
    "# New test case: Chills=Y, Running nose=N, Headache=mild, Fever=Y\n",
    "test = ['Y', 'N', 'mild', 'Y']\n",
    "test_encoded = np.array([[encoders[i].transform([test[i]])[0] for i in range(len(test))]])\n",
    "\n",
    "# Predict result\n",
    "prediction = model.predict(test_encoded)\n",
    "probabilities = model.predict_proba(test_encoded)\n",
    "\n",
    "# Display results\n",
    "print(\"Prediction (Has flu?):\", y_encoder.inverse_transform(prediction)[0])\n",
    "print(\"Class probabilities:\", probabilities)\n"
   ]
  },
  {
   "cell_type": "code",
   "execution_count": null,
   "id": "34aab647-ce15-48f5-b237-a85001a2232d",
   "metadata": {},
   "outputs": [],
   "source": []
  }
 ],
 "metadata": {
  "kernelspec": {
   "display_name": "Python 3 (ipykernel)",
   "language": "python",
   "name": "python3"
  },
  "language_info": {
   "codemirror_mode": {
    "name": "ipython",
    "version": 3
   },
   "file_extension": ".py",
   "mimetype": "text/x-python",
   "name": "python",
   "nbconvert_exporter": "python",
   "pygments_lexer": "ipython3",
   "version": "3.9.6"
  }
 },
 "nbformat": 4,
 "nbformat_minor": 5
}
